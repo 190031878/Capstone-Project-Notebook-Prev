{
  "nbformat": 4,
  "nbformat_minor": 0,
  "metadata": {
    "colab": {
      "name": "Part1.ipynb",
      "provenance": []
    },
    "kernelspec": {
      "name": "python3",
      "display_name": "Python 3"
    },
    "language_info": {
      "name": "python"
    }
  },
  "cells": [
    {
      "cell_type": "markdown",
      "metadata": {
        "id": "GuACgC7msKKD"
      },
      "source": [
        "Segmenting and Clustering Neighbourhoods in Toronto \n",
        "\n",
        "Importing libraries"
      ]
    },
    {
      "cell_type": "code",
      "metadata": {
        "id": "MY-aN1p6sE6A"
      },
      "source": [
        "import pandas as pd\n",
        "import numpy as np\n",
        "import requests"
      ],
      "execution_count": 1,
      "outputs": []
    },
    {
      "cell_type": "code",
      "metadata": {
        "colab": {
          "base_uri": "https://localhost:8080/"
        },
        "id": "HKfP-uyAswK3",
        "outputId": "216ba70f-af1b-4846-8092-f232e96ed100"
      },
      "source": [
        "url = \"https://en.wikipedia.org/wiki/List_of_postal_codes_of_Canada:_M\"\n",
        "wiki_url = requests.get(url)\n",
        "wiki_url"
      ],
      "execution_count": 5,
      "outputs": [
        {
          "output_type": "execute_result",
          "data": {
            "text/plain": [
              "<Response [200]>"
            ]
          },
          "metadata": {
            "tags": []
          },
          "execution_count": 5
        }
      ]
    },
    {
      "cell_type": "code",
      "metadata": {
        "colab": {
          "base_uri": "https://localhost:8080/"
        },
        "id": "WVaIBqOxsxvJ",
        "outputId": "36b4cdc6-e44c-49e9-8e12-c9f1003ef785"
      },
      "source": [
        "wiki_data = pd.read_html(wiki_url.text)\n",
        "wiki_data"
      ],
      "execution_count": 6,
      "outputs": [
        {
          "output_type": "execute_result",
          "data": {
            "text/plain": [
              "[                                                    0  ...                                                  8\n",
              " 0                                     M1ANot assigned  ...                     M9AEtobicoke(Islington Avenue)\n",
              " 1                     M1BScarborough(Malvern / Rouge)  ...  M9BEtobicoke(West Deane Park / Princess Garden...\n",
              " 2   M1CScarborough(Rouge Hill / Port Union / Highl...  ...  M9CEtobicoke(Eringate / Bloordale Gardens / Ol...\n",
              " 3   M1EScarborough(Guildwood / Morningside / West ...  ...                                    M9ENot assigned\n",
              " 4                              M1GScarborough(Woburn)  ...                                    M9GNot assigned\n",
              " 5                           M1HScarborough(Cedarbrae)  ...                                    M9HNot assigned\n",
              " 6                 M1JScarborough(Scarborough Village)  ...                                    M9JNot assigned\n",
              " 7   M1KScarborough(Kennedy Park / Ionview / East B...  ...                                    M9KNot assigned\n",
              " 8   M1LScarborough(Golden Mile / Clairlea / Oakridge)  ...                       M9LNorth York(Humber Summit)\n",
              " 9   M1MScarborough(Cliffside / Cliffcrest / Scarbo...  ...                   M9MNorth York(Humberlea / Emery)\n",
              " 10       M1NScarborough(Birch Cliff / Cliffside West)  ...                                    M9NYork(Weston)\n",
              " 11  M1PScarborough(Dorset Park / Wexford Heights /...  ...                            M9PEtobicoke(Westmount)\n",
              " 12                 M1RScarborough(Wexford / Maryvale)  ...  M9REtobicoke(Kingsview Village / St. Phillips ...\n",
              " 13                          M1SScarborough(Agincourt)  ...                                    M9SNot assigned\n",
              " 14  M1TScarborough(Clarks Corners / Tam O'Shanter ...  ...                                    M9TNot assigned\n",
              " 15  M1VScarborough(Milliken / Agincourt North / St...  ...  M9VEtobicoke(South Steeles / Silverstone / Hum...\n",
              " 16     M1WScarborough(Steeles West / L'Amoreaux West)  ...  M9WEtobicokeNorthwest(Clairville / Humberwood ...\n",
              " 17                        M1XScarborough(Upper Rouge)  ...                                    M9XNot assigned\n",
              " 18                                    M1YNot assigned  ...                                    M9YNot assigned\n",
              " 19                                    M1ZNot assigned  ...                                    M9ZNot assigned\n",
              " \n",
              " [20 rows x 9 columns],\n",
              "                                                   0   ...   17\n",
              " 0                                                NaN  ...  NaN\n",
              " 1  NL NS PE NB QC ON MB SK AB BC NU/NT YT A B C E...  ...  NaN\n",
              " 2                                                 NL  ...   YT\n",
              " 3                                                  A  ...    Y\n",
              " \n",
              " [4 rows x 18 columns],\n",
              "    0   1   2   3   4   5   6   7   8   9   10  11  12  13  14  15     16  17\n",
              " 0  NL  NS  PE  NB  QC  QC  QC  ON  ON  ON  ON  ON  MB  SK  AB  BC  NU/NT  YT\n",
              " 1   A   B   C   E   G   H   J   K   L   M   N   P   R   S   T   V      X   Y]"
            ]
          },
          "metadata": {
            "tags": []
          },
          "execution_count": 6
        }
      ]
    },
    {
      "cell_type": "code",
      "metadata": {
        "colab": {
          "base_uri": "https://localhost:8080/"
        },
        "id": "FZfc0xWYsx09",
        "outputId": "51c90978-ae35-42a2-cbee-6a00c64de500"
      },
      "source": [
        "len(wiki_data), type(wiki_data)"
      ],
      "execution_count": 7,
      "outputs": [
        {
          "output_type": "execute_result",
          "data": {
            "text/plain": [
              "(3, list)"
            ]
          },
          "metadata": {
            "tags": []
          },
          "execution_count": 7
        }
      ]
    },
    {
      "cell_type": "code",
      "metadata": {
        "colab": {
          "base_uri": "https://localhost:8080/",
          "height": 1000
        },
        "id": "1fRJCp7ssU3y",
        "outputId": "7ef931d5-cc16-4344-c25d-12d00227fd79"
      },
      "source": [
        "wiki_data = wiki_data[0]\n",
        "wiki_data"
      ],
      "execution_count": 8,
      "outputs": [
        {
          "output_type": "execute_result",
          "data": {
            "text/html": [
              "<div>\n",
              "<style scoped>\n",
              "    .dataframe tbody tr th:only-of-type {\n",
              "        vertical-align: middle;\n",
              "    }\n",
              "\n",
              "    .dataframe tbody tr th {\n",
              "        vertical-align: top;\n",
              "    }\n",
              "\n",
              "    .dataframe thead th {\n",
              "        text-align: right;\n",
              "    }\n",
              "</style>\n",
              "<table border=\"1\" class=\"dataframe\">\n",
              "  <thead>\n",
              "    <tr style=\"text-align: right;\">\n",
              "      <th></th>\n",
              "      <th>0</th>\n",
              "      <th>1</th>\n",
              "      <th>2</th>\n",
              "      <th>3</th>\n",
              "      <th>4</th>\n",
              "      <th>5</th>\n",
              "      <th>6</th>\n",
              "      <th>7</th>\n",
              "      <th>8</th>\n",
              "    </tr>\n",
              "  </thead>\n",
              "  <tbody>\n",
              "    <tr>\n",
              "      <th>0</th>\n",
              "      <td>M1ANot assigned</td>\n",
              "      <td>M2ANot assigned</td>\n",
              "      <td>M3ANorth York(Parkwoods)</td>\n",
              "      <td>M4ANorth York(Victoria Village)</td>\n",
              "      <td>M5ADowntown Toronto(Regent Park / Harbourfront)</td>\n",
              "      <td>M6ANorth York(Lawrence Manor / Lawrence Heights)</td>\n",
              "      <td>M7AQueen's Park(Ontario Provincial Government)</td>\n",
              "      <td>M8ANot assigned</td>\n",
              "      <td>M9AEtobicoke(Islington Avenue)</td>\n",
              "    </tr>\n",
              "    <tr>\n",
              "      <th>1</th>\n",
              "      <td>M1BScarborough(Malvern / Rouge)</td>\n",
              "      <td>M2BNot assigned</td>\n",
              "      <td>M3BNorth York(Don Mills)North</td>\n",
              "      <td>M4BEast York(Parkview Hill / Woodbine Gardens)</td>\n",
              "      <td>M5BDowntown Toronto(Garden District, Ryerson)</td>\n",
              "      <td>M6BNorth York(Glencairn)</td>\n",
              "      <td>M7BNot assigned</td>\n",
              "      <td>M8BNot assigned</td>\n",
              "      <td>M9BEtobicoke(West Deane Park / Princess Garden...</td>\n",
              "    </tr>\n",
              "    <tr>\n",
              "      <th>2</th>\n",
              "      <td>M1CScarborough(Rouge Hill / Port Union / Highl...</td>\n",
              "      <td>M2CNot assigned</td>\n",
              "      <td>M3CNorth York(Don Mills)South(Flemingdon Park)</td>\n",
              "      <td>M4CEast York(Woodbine Heights)</td>\n",
              "      <td>M5CDowntown Toronto(St. James Town)</td>\n",
              "      <td>M6CYork(Humewood-Cedarvale)</td>\n",
              "      <td>M7CNot assigned</td>\n",
              "      <td>M8CNot assigned</td>\n",
              "      <td>M9CEtobicoke(Eringate / Bloordale Gardens / Ol...</td>\n",
              "    </tr>\n",
              "    <tr>\n",
              "      <th>3</th>\n",
              "      <td>M1EScarborough(Guildwood / Morningside / West ...</td>\n",
              "      <td>M2ENot assigned</td>\n",
              "      <td>M3ENot assigned</td>\n",
              "      <td>M4EEast Toronto(The Beaches)</td>\n",
              "      <td>M5EDowntown Toronto(Berczy Park)</td>\n",
              "      <td>M6EYork(Caledonia-Fairbanks)</td>\n",
              "      <td>M7ENot assigned</td>\n",
              "      <td>M8ENot assigned</td>\n",
              "      <td>M9ENot assigned</td>\n",
              "    </tr>\n",
              "    <tr>\n",
              "      <th>4</th>\n",
              "      <td>M1GScarborough(Woburn)</td>\n",
              "      <td>M2GNot assigned</td>\n",
              "      <td>M3GNot assigned</td>\n",
              "      <td>M4GEast York(Leaside)</td>\n",
              "      <td>M5GDowntown Toronto(Central Bay Street)</td>\n",
              "      <td>M6GDowntown Toronto(Christie)</td>\n",
              "      <td>M7GNot assigned</td>\n",
              "      <td>M8GNot assigned</td>\n",
              "      <td>M9GNot assigned</td>\n",
              "    </tr>\n",
              "    <tr>\n",
              "      <th>5</th>\n",
              "      <td>M1HScarborough(Cedarbrae)</td>\n",
              "      <td>M2HNorth York(Hillcrest Village)</td>\n",
              "      <td>M3HNorth York(Bathurst Manor / Wilson Heights ...</td>\n",
              "      <td>M4HEast York(Thorncliffe Park)</td>\n",
              "      <td>M5HDowntown Toronto(Richmond / Adelaide / King)</td>\n",
              "      <td>M6HWest Toronto(Dufferin / Dovercourt Village)</td>\n",
              "      <td>M7HNot assigned</td>\n",
              "      <td>M8HNot assigned</td>\n",
              "      <td>M9HNot assigned</td>\n",
              "    </tr>\n",
              "    <tr>\n",
              "      <th>6</th>\n",
              "      <td>M1JScarborough(Scarborough Village)</td>\n",
              "      <td>M2JNorth York(Fairview / Henry Farm / Oriole)</td>\n",
              "      <td>M3JNorth York(Northwood Park / York University)</td>\n",
              "      <td>M4JEast YorkEast Toronto(The Danforth East)</td>\n",
              "      <td>M5JDowntown Toronto(Harbourfront East / Union ...</td>\n",
              "      <td>M6JWest Toronto(Little Portugal / Trinity)</td>\n",
              "      <td>M7JNot assigned</td>\n",
              "      <td>M8JNot assigned</td>\n",
              "      <td>M9JNot assigned</td>\n",
              "    </tr>\n",
              "    <tr>\n",
              "      <th>7</th>\n",
              "      <td>M1KScarborough(Kennedy Park / Ionview / East B...</td>\n",
              "      <td>M2KNorth York(Bayview Village)</td>\n",
              "      <td>M3KNorth York(Downsview)East (CFB Toronto)</td>\n",
              "      <td>M4KEast Toronto(The Danforth West / Riverdale)</td>\n",
              "      <td>M5KDowntown Toronto(Toronto Dominion Centre / ...</td>\n",
              "      <td>M6KWest Toronto(Brockton / Parkdale Village / ...</td>\n",
              "      <td>M7KNot assigned</td>\n",
              "      <td>M8KNot assigned</td>\n",
              "      <td>M9KNot assigned</td>\n",
              "    </tr>\n",
              "    <tr>\n",
              "      <th>8</th>\n",
              "      <td>M1LScarborough(Golden Mile / Clairlea / Oakridge)</td>\n",
              "      <td>M2LNorth York(York Mills / Silver Hills)</td>\n",
              "      <td>M3LNorth York(Downsview)West</td>\n",
              "      <td>M4LEast Toronto(India Bazaar / The Beaches West)</td>\n",
              "      <td>M5LDowntown Toronto(Commerce Court / Victoria ...</td>\n",
              "      <td>M6LNorth York(North Park / Maple Leaf Park / U...</td>\n",
              "      <td>M7LNot assigned</td>\n",
              "      <td>M8LNot assigned</td>\n",
              "      <td>M9LNorth York(Humber Summit)</td>\n",
              "    </tr>\n",
              "    <tr>\n",
              "      <th>9</th>\n",
              "      <td>M1MScarborough(Cliffside / Cliffcrest / Scarbo...</td>\n",
              "      <td>M2MNorth York(Willowdale / Newtonbrook)</td>\n",
              "      <td>M3MNorth York(Downsview)Central</td>\n",
              "      <td>M4MEast Toronto(Studio District)</td>\n",
              "      <td>M5MNorth York(Bedford Park / Lawrence Manor East)</td>\n",
              "      <td>M6MYork(Del Ray / Mount Dennis / Keelsdale and...</td>\n",
              "      <td>M7MNot assigned</td>\n",
              "      <td>M8MNot assigned</td>\n",
              "      <td>M9MNorth York(Humberlea / Emery)</td>\n",
              "    </tr>\n",
              "    <tr>\n",
              "      <th>10</th>\n",
              "      <td>M1NScarborough(Birch Cliff / Cliffside West)</td>\n",
              "      <td>M2NNorth York(Willowdale)South</td>\n",
              "      <td>M3NNorth York(Downsview)Northwest</td>\n",
              "      <td>M4NCentral Toronto(Lawrence Park)</td>\n",
              "      <td>M5NCentral Toronto(Roselawn)</td>\n",
              "      <td>M6NYork(Runnymede / The Junction North)</td>\n",
              "      <td>M7NNot assigned</td>\n",
              "      <td>M8NNot assigned</td>\n",
              "      <td>M9NYork(Weston)</td>\n",
              "    </tr>\n",
              "    <tr>\n",
              "      <th>11</th>\n",
              "      <td>M1PScarborough(Dorset Park / Wexford Heights /...</td>\n",
              "      <td>M2PNorth York(York Mills West)</td>\n",
              "      <td>M3PNot assigned</td>\n",
              "      <td>M4PCentral Toronto(Davisville North)</td>\n",
              "      <td>M5PCentral Toronto(Forest Hill North &amp; West)</td>\n",
              "      <td>M6PWest Toronto(High Park / The Junction South)</td>\n",
              "      <td>M7PNot assigned</td>\n",
              "      <td>M8PNot assigned</td>\n",
              "      <td>M9PEtobicoke(Westmount)</td>\n",
              "    </tr>\n",
              "    <tr>\n",
              "      <th>12</th>\n",
              "      <td>M1RScarborough(Wexford / Maryvale)</td>\n",
              "      <td>M2RNorth York(Willowdale)West</td>\n",
              "      <td>M3RNot assigned</td>\n",
              "      <td>M4RCentral Toronto(North Toronto West)</td>\n",
              "      <td>M5RCentral Toronto(The Annex / North Midtown /...</td>\n",
              "      <td>M6RWest Toronto(Parkdale / Roncesvalles)</td>\n",
              "      <td>M7RMississaugaCanada Post Gateway Processing C...</td>\n",
              "      <td>M8RNot assigned</td>\n",
              "      <td>M9REtobicoke(Kingsview Village / St. Phillips ...</td>\n",
              "    </tr>\n",
              "    <tr>\n",
              "      <th>13</th>\n",
              "      <td>M1SScarborough(Agincourt)</td>\n",
              "      <td>M2SNot assigned</td>\n",
              "      <td>M3SNot assigned</td>\n",
              "      <td>M4SCentral Toronto(Davisville)</td>\n",
              "      <td>M5SDowntown Toronto(University of Toronto / Ha...</td>\n",
              "      <td>M6SWest Toronto(Runnymede / Swansea)</td>\n",
              "      <td>M7SNot assigned</td>\n",
              "      <td>M8SNot assigned</td>\n",
              "      <td>M9SNot assigned</td>\n",
              "    </tr>\n",
              "    <tr>\n",
              "      <th>14</th>\n",
              "      <td>M1TScarborough(Clarks Corners / Tam O'Shanter ...</td>\n",
              "      <td>M2TNot assigned</td>\n",
              "      <td>M3TNot assigned</td>\n",
              "      <td>M4TCentral Toronto(Moore Park / Summerhill East)</td>\n",
              "      <td>M5TDowntown Toronto(Kensington Market / Chinat...</td>\n",
              "      <td>M6TNot assigned</td>\n",
              "      <td>M7TNot assigned</td>\n",
              "      <td>M8TNot assigned</td>\n",
              "      <td>M9TNot assigned</td>\n",
              "    </tr>\n",
              "    <tr>\n",
              "      <th>15</th>\n",
              "      <td>M1VScarborough(Milliken / Agincourt North / St...</td>\n",
              "      <td>M2VNot assigned</td>\n",
              "      <td>M3VNot assigned</td>\n",
              "      <td>M4VCentral Toronto(Summerhill West / Rathnelly...</td>\n",
              "      <td>M5VDowntown Toronto(CN Tower / King and Spadin...</td>\n",
              "      <td>M6VNot assigned</td>\n",
              "      <td>M7VNot assigned</td>\n",
              "      <td>M8VEtobicoke(New Toronto / Mimico South / Humb...</td>\n",
              "      <td>M9VEtobicoke(South Steeles / Silverstone / Hum...</td>\n",
              "    </tr>\n",
              "    <tr>\n",
              "      <th>16</th>\n",
              "      <td>M1WScarborough(Steeles West / L'Amoreaux West)</td>\n",
              "      <td>M2WNot assigned</td>\n",
              "      <td>M3WNot assigned</td>\n",
              "      <td>M4WDowntown Toronto(Rosedale)</td>\n",
              "      <td>M5WDowntown TorontoStn A PO Boxes25 The Esplan...</td>\n",
              "      <td>M6WNot assigned</td>\n",
              "      <td>M7WNot assigned</td>\n",
              "      <td>M8WEtobicoke(Alderwood / Long Branch)</td>\n",
              "      <td>M9WEtobicokeNorthwest(Clairville / Humberwood ...</td>\n",
              "    </tr>\n",
              "    <tr>\n",
              "      <th>17</th>\n",
              "      <td>M1XScarborough(Upper Rouge)</td>\n",
              "      <td>M2XNot assigned</td>\n",
              "      <td>M3XNot assigned</td>\n",
              "      <td>M4XDowntown Toronto(St. James Town / Cabbagetown)</td>\n",
              "      <td>M5XDowntown Toronto(First Canadian Place / Und...</td>\n",
              "      <td>M6XNot assigned</td>\n",
              "      <td>M7XNot assigned</td>\n",
              "      <td>M8XEtobicoke(The Kingsway / Montgomery Road / ...</td>\n",
              "      <td>M9XNot assigned</td>\n",
              "    </tr>\n",
              "    <tr>\n",
              "      <th>18</th>\n",
              "      <td>M1YNot assigned</td>\n",
              "      <td>M2YNot assigned</td>\n",
              "      <td>M3YNot assigned</td>\n",
              "      <td>M4YDowntown Toronto(Church and Wellesley)</td>\n",
              "      <td>M5YNot assigned</td>\n",
              "      <td>M6YNot assigned</td>\n",
              "      <td>M7YEast TorontoBusiness reply mail Processing ...</td>\n",
              "      <td>M8YEtobicoke(Old Mill South / King's Mill Park...</td>\n",
              "      <td>M9YNot assigned</td>\n",
              "    </tr>\n",
              "    <tr>\n",
              "      <th>19</th>\n",
              "      <td>M1ZNot assigned</td>\n",
              "      <td>M2ZNot assigned</td>\n",
              "      <td>M3ZNot assigned</td>\n",
              "      <td>M4ZNot assigned</td>\n",
              "      <td>M5ZNot assigned</td>\n",
              "      <td>M6ZNot assigned</td>\n",
              "      <td>M7ZNot assigned</td>\n",
              "      <td>M8ZEtobicoke(Mimico NW / The Queensway West / ...</td>\n",
              "      <td>M9ZNot assigned</td>\n",
              "    </tr>\n",
              "  </tbody>\n",
              "</table>\n",
              "</div>"
            ],
            "text/plain": [
              "                                                    0  ...                                                  8\n",
              "0                                     M1ANot assigned  ...                     M9AEtobicoke(Islington Avenue)\n",
              "1                     M1BScarborough(Malvern / Rouge)  ...  M9BEtobicoke(West Deane Park / Princess Garden...\n",
              "2   M1CScarborough(Rouge Hill / Port Union / Highl...  ...  M9CEtobicoke(Eringate / Bloordale Gardens / Ol...\n",
              "3   M1EScarborough(Guildwood / Morningside / West ...  ...                                    M9ENot assigned\n",
              "4                              M1GScarborough(Woburn)  ...                                    M9GNot assigned\n",
              "5                           M1HScarborough(Cedarbrae)  ...                                    M9HNot assigned\n",
              "6                 M1JScarborough(Scarborough Village)  ...                                    M9JNot assigned\n",
              "7   M1KScarborough(Kennedy Park / Ionview / East B...  ...                                    M9KNot assigned\n",
              "8   M1LScarborough(Golden Mile / Clairlea / Oakridge)  ...                       M9LNorth York(Humber Summit)\n",
              "9   M1MScarborough(Cliffside / Cliffcrest / Scarbo...  ...                   M9MNorth York(Humberlea / Emery)\n",
              "10       M1NScarborough(Birch Cliff / Cliffside West)  ...                                    M9NYork(Weston)\n",
              "11  M1PScarborough(Dorset Park / Wexford Heights /...  ...                            M9PEtobicoke(Westmount)\n",
              "12                 M1RScarborough(Wexford / Maryvale)  ...  M9REtobicoke(Kingsview Village / St. Phillips ...\n",
              "13                          M1SScarborough(Agincourt)  ...                                    M9SNot assigned\n",
              "14  M1TScarborough(Clarks Corners / Tam O'Shanter ...  ...                                    M9TNot assigned\n",
              "15  M1VScarborough(Milliken / Agincourt North / St...  ...  M9VEtobicoke(South Steeles / Silverstone / Hum...\n",
              "16     M1WScarborough(Steeles West / L'Amoreaux West)  ...  M9WEtobicokeNorthwest(Clairville / Humberwood ...\n",
              "17                        M1XScarborough(Upper Rouge)  ...                                    M9XNot assigned\n",
              "18                                    M1YNot assigned  ...                                    M9YNot assigned\n",
              "19                                    M1ZNot assigned  ...                                    M9ZNot assigned\n",
              "\n",
              "[20 rows x 9 columns]"
            ]
          },
          "metadata": {
            "tags": []
          },
          "execution_count": 8
        }
      ]
    },
    {
      "cell_type": "code",
      "metadata": {
        "colab": {
          "base_uri": "https://localhost:8080/",
          "height": 522
        },
        "id": "tiCNC1v7tZej",
        "outputId": "1f9be39e-6d38-418f-86fa-a056064e4dd7"
      },
      "source": [
        "df = wiki_data[wiki_data[\"Borough\"] != \"Not assigned\"]\n",
        "df"
      ],
      "execution_count": 14,
      "outputs": [
        {
          "output_type": "error",
          "ename": "KeyError",
          "evalue": "ignored",
          "traceback": [
            "\u001b[0;31m---------------------------------------------------------------------------\u001b[0m",
            "\u001b[0;31mKeyError\u001b[0m                                  Traceback (most recent call last)",
            "\u001b[0;32m/usr/local/lib/python3.7/dist-packages/pandas/core/indexes/base.py\u001b[0m in \u001b[0;36mget_loc\u001b[0;34m(self, key, method, tolerance)\u001b[0m\n\u001b[1;32m   2897\u001b[0m             \u001b[0;32mtry\u001b[0m\u001b[0;34m:\u001b[0m\u001b[0;34m\u001b[0m\u001b[0;34m\u001b[0m\u001b[0m\n\u001b[0;32m-> 2898\u001b[0;31m                 \u001b[0;32mreturn\u001b[0m \u001b[0mself\u001b[0m\u001b[0;34m.\u001b[0m\u001b[0m_engine\u001b[0m\u001b[0;34m.\u001b[0m\u001b[0mget_loc\u001b[0m\u001b[0;34m(\u001b[0m\u001b[0mcasted_key\u001b[0m\u001b[0;34m)\u001b[0m\u001b[0;34m\u001b[0m\u001b[0;34m\u001b[0m\u001b[0m\n\u001b[0m\u001b[1;32m   2899\u001b[0m             \u001b[0;32mexcept\u001b[0m \u001b[0mKeyError\u001b[0m \u001b[0;32mas\u001b[0m \u001b[0merr\u001b[0m\u001b[0;34m:\u001b[0m\u001b[0;34m\u001b[0m\u001b[0;34m\u001b[0m\u001b[0m\n",
            "\u001b[0;32mpandas/_libs/index.pyx\u001b[0m in \u001b[0;36mpandas._libs.index.IndexEngine.get_loc\u001b[0;34m()\u001b[0m\n",
            "\u001b[0;32mpandas/_libs/index.pyx\u001b[0m in \u001b[0;36mpandas._libs.index.IndexEngine.get_loc\u001b[0;34m()\u001b[0m\n",
            "\u001b[0;32mpandas/_libs/index_class_helper.pxi\u001b[0m in \u001b[0;36mpandas._libs.index.Int64Engine._check_type\u001b[0;34m()\u001b[0m\n",
            "\u001b[0;31mKeyError\u001b[0m: 'Borough'",
            "\nThe above exception was the direct cause of the following exception:\n",
            "\u001b[0;31mKeyError\u001b[0m                                  Traceback (most recent call last)",
            "\u001b[0;32m<ipython-input-14-0eb85a1ff736>\u001b[0m in \u001b[0;36m<module>\u001b[0;34m()\u001b[0m\n\u001b[0;32m----> 1\u001b[0;31m \u001b[0mdf\u001b[0m \u001b[0;34m=\u001b[0m \u001b[0mwiki_data\u001b[0m\u001b[0;34m[\u001b[0m\u001b[0mwiki_data\u001b[0m\u001b[0;34m[\u001b[0m\u001b[0;34m\"Borough\"\u001b[0m\u001b[0;34m]\u001b[0m \u001b[0;34m!=\u001b[0m \u001b[0;34m\"Not assigned\"\u001b[0m\u001b[0;34m]\u001b[0m\u001b[0;34m\u001b[0m\u001b[0;34m\u001b[0m\u001b[0m\n\u001b[0m\u001b[1;32m      2\u001b[0m \u001b[0mdf\u001b[0m\u001b[0;34m\u001b[0m\u001b[0;34m\u001b[0m\u001b[0m\n",
            "\u001b[0;32m/usr/local/lib/python3.7/dist-packages/pandas/core/frame.py\u001b[0m in \u001b[0;36m__getitem__\u001b[0;34m(self, key)\u001b[0m\n\u001b[1;32m   2904\u001b[0m             \u001b[0;32mif\u001b[0m \u001b[0mself\u001b[0m\u001b[0;34m.\u001b[0m\u001b[0mcolumns\u001b[0m\u001b[0;34m.\u001b[0m\u001b[0mnlevels\u001b[0m \u001b[0;34m>\u001b[0m \u001b[0;36m1\u001b[0m\u001b[0;34m:\u001b[0m\u001b[0;34m\u001b[0m\u001b[0;34m\u001b[0m\u001b[0m\n\u001b[1;32m   2905\u001b[0m                 \u001b[0;32mreturn\u001b[0m \u001b[0mself\u001b[0m\u001b[0;34m.\u001b[0m\u001b[0m_getitem_multilevel\u001b[0m\u001b[0;34m(\u001b[0m\u001b[0mkey\u001b[0m\u001b[0;34m)\u001b[0m\u001b[0;34m\u001b[0m\u001b[0;34m\u001b[0m\u001b[0m\n\u001b[0;32m-> 2906\u001b[0;31m             \u001b[0mindexer\u001b[0m \u001b[0;34m=\u001b[0m \u001b[0mself\u001b[0m\u001b[0;34m.\u001b[0m\u001b[0mcolumns\u001b[0m\u001b[0;34m.\u001b[0m\u001b[0mget_loc\u001b[0m\u001b[0;34m(\u001b[0m\u001b[0mkey\u001b[0m\u001b[0;34m)\u001b[0m\u001b[0;34m\u001b[0m\u001b[0;34m\u001b[0m\u001b[0m\n\u001b[0m\u001b[1;32m   2907\u001b[0m             \u001b[0;32mif\u001b[0m \u001b[0mis_integer\u001b[0m\u001b[0;34m(\u001b[0m\u001b[0mindexer\u001b[0m\u001b[0;34m)\u001b[0m\u001b[0;34m:\u001b[0m\u001b[0;34m\u001b[0m\u001b[0;34m\u001b[0m\u001b[0m\n\u001b[1;32m   2908\u001b[0m                 \u001b[0mindexer\u001b[0m \u001b[0;34m=\u001b[0m \u001b[0;34m[\u001b[0m\u001b[0mindexer\u001b[0m\u001b[0;34m]\u001b[0m\u001b[0;34m\u001b[0m\u001b[0;34m\u001b[0m\u001b[0m\n",
            "\u001b[0;32m/usr/local/lib/python3.7/dist-packages/pandas/core/indexes/base.py\u001b[0m in \u001b[0;36mget_loc\u001b[0;34m(self, key, method, tolerance)\u001b[0m\n\u001b[1;32m   2898\u001b[0m                 \u001b[0;32mreturn\u001b[0m \u001b[0mself\u001b[0m\u001b[0;34m.\u001b[0m\u001b[0m_engine\u001b[0m\u001b[0;34m.\u001b[0m\u001b[0mget_loc\u001b[0m\u001b[0;34m(\u001b[0m\u001b[0mcasted_key\u001b[0m\u001b[0;34m)\u001b[0m\u001b[0;34m\u001b[0m\u001b[0;34m\u001b[0m\u001b[0m\n\u001b[1;32m   2899\u001b[0m             \u001b[0;32mexcept\u001b[0m \u001b[0mKeyError\u001b[0m \u001b[0;32mas\u001b[0m \u001b[0merr\u001b[0m\u001b[0;34m:\u001b[0m\u001b[0;34m\u001b[0m\u001b[0;34m\u001b[0m\u001b[0m\n\u001b[0;32m-> 2900\u001b[0;31m                 \u001b[0;32mraise\u001b[0m \u001b[0mKeyError\u001b[0m\u001b[0;34m(\u001b[0m\u001b[0mkey\u001b[0m\u001b[0;34m)\u001b[0m \u001b[0;32mfrom\u001b[0m \u001b[0merr\u001b[0m\u001b[0;34m\u001b[0m\u001b[0;34m\u001b[0m\u001b[0m\n\u001b[0m\u001b[1;32m   2901\u001b[0m \u001b[0;34m\u001b[0m\u001b[0m\n\u001b[1;32m   2902\u001b[0m         \u001b[0;32mif\u001b[0m \u001b[0mtolerance\u001b[0m \u001b[0;32mis\u001b[0m \u001b[0;32mnot\u001b[0m \u001b[0;32mNone\u001b[0m\u001b[0;34m:\u001b[0m\u001b[0;34m\u001b[0m\u001b[0;34m\u001b[0m\u001b[0m\n",
            "\u001b[0;31mKeyError\u001b[0m: 'Borough'"
          ]
        }
      ]
    },
    {
      "cell_type": "code",
      "metadata": {
        "colab": {
          "base_uri": "https://localhost:8080/",
          "height": 178
        },
        "id": "8zhT7a3js_yg",
        "outputId": "65b088a4-3241-4a06-f0e3-a81c214fa575"
      },
      "source": [
        "df = df.groupby(['Postal Code']).head()\n",
        "df"
      ],
      "execution_count": 10,
      "outputs": [
        {
          "output_type": "error",
          "ename": "NameError",
          "evalue": "ignored",
          "traceback": [
            "\u001b[0;31m---------------------------------------------------------------------------\u001b[0m",
            "\u001b[0;31mNameError\u001b[0m                                 Traceback (most recent call last)",
            "\u001b[0;32m<ipython-input-10-70885b7fbfdf>\u001b[0m in \u001b[0;36m<module>\u001b[0;34m()\u001b[0m\n\u001b[0;32m----> 1\u001b[0;31m \u001b[0mdf\u001b[0m \u001b[0;34m=\u001b[0m \u001b[0mdf\u001b[0m\u001b[0;34m.\u001b[0m\u001b[0mgroupby\u001b[0m\u001b[0;34m(\u001b[0m\u001b[0;34m[\u001b[0m\u001b[0;34m'Postal Code'\u001b[0m\u001b[0;34m]\u001b[0m\u001b[0;34m)\u001b[0m\u001b[0;34m.\u001b[0m\u001b[0mhead\u001b[0m\u001b[0;34m(\u001b[0m\u001b[0;34m)\u001b[0m\u001b[0;34m\u001b[0m\u001b[0;34m\u001b[0m\u001b[0m\n\u001b[0m\u001b[1;32m      2\u001b[0m \u001b[0mdf\u001b[0m\u001b[0;34m\u001b[0m\u001b[0;34m\u001b[0m\u001b[0m\n",
            "\u001b[0;31mNameError\u001b[0m: name 'df' is not defined"
          ]
        }
      ]
    },
    {
      "cell_type": "code",
      "metadata": {
        "colab": {
          "base_uri": "https://localhost:8080/",
          "height": 178
        },
        "id": "UMMSkYxNs_1r",
        "outputId": "57b15c7f-ece7-4307-ca13-cbd2a6a86440"
      },
      "source": [
        "\n",
        "df.Neighbourhood.str.count(\"Not assigned\").su"
      ],
      "execution_count": 11,
      "outputs": [
        {
          "output_type": "error",
          "ename": "NameError",
          "evalue": "ignored",
          "traceback": [
            "\u001b[0;31m---------------------------------------------------------------------------\u001b[0m",
            "\u001b[0;31mNameError\u001b[0m                                 Traceback (most recent call last)",
            "\u001b[0;32m<ipython-input-11-6aa54a17431b>\u001b[0m in \u001b[0;36m<module>\u001b[0;34m()\u001b[0m\n\u001b[1;32m      1\u001b[0m \u001b[0;34m\u001b[0m\u001b[0m\n\u001b[0;32m----> 2\u001b[0;31m \u001b[0mdf\u001b[0m\u001b[0;34m.\u001b[0m\u001b[0mNeighbourhood\u001b[0m\u001b[0;34m.\u001b[0m\u001b[0mstr\u001b[0m\u001b[0;34m.\u001b[0m\u001b[0mcount\u001b[0m\u001b[0;34m(\u001b[0m\u001b[0;34m\"Not assigned\"\u001b[0m\u001b[0;34m)\u001b[0m\u001b[0;34m.\u001b[0m\u001b[0msu\u001b[0m\u001b[0;34m\u001b[0m\u001b[0;34m\u001b[0m\u001b[0m\n\u001b[0m",
            "\u001b[0;31mNameError\u001b[0m: name 'df' is not defined"
          ]
        }
      ]
    },
    {
      "cell_type": "code",
      "metadata": {
        "colab": {
          "base_uri": "https://localhost:8080/",
          "height": 178
        },
        "id": "wHwuFJFvs_5p",
        "outputId": "713aa913-82d2-4f3e-cf28-1e5999640b10"
      },
      "source": [
        "df = df.reset_index()\n",
        "df"
      ],
      "execution_count": 12,
      "outputs": [
        {
          "output_type": "error",
          "ename": "NameError",
          "evalue": "ignored",
          "traceback": [
            "\u001b[0;31m---------------------------------------------------------------------------\u001b[0m",
            "\u001b[0;31mNameError\u001b[0m                                 Traceback (most recent call last)",
            "\u001b[0;32m<ipython-input-12-d5b3a80c472f>\u001b[0m in \u001b[0;36m<module>\u001b[0;34m()\u001b[0m\n\u001b[0;32m----> 1\u001b[0;31m \u001b[0mdf\u001b[0m \u001b[0;34m=\u001b[0m \u001b[0mdf\u001b[0m\u001b[0;34m.\u001b[0m\u001b[0mreset_index\u001b[0m\u001b[0;34m(\u001b[0m\u001b[0;34m)\u001b[0m\u001b[0;34m\u001b[0m\u001b[0;34m\u001b[0m\u001b[0m\n\u001b[0m\u001b[1;32m      2\u001b[0m \u001b[0mdf\u001b[0m\u001b[0;34m\u001b[0m\u001b[0;34m\u001b[0m\u001b[0m\n",
            "\u001b[0;31mNameError\u001b[0m: name 'df' is not defined"
          ]
        }
      ]
    },
    {
      "cell_type": "code",
      "metadata": {
        "colab": {
          "base_uri": "https://localhost:8080/",
          "height": 162
        },
        "id": "Jhlg1aRDtQ7E",
        "outputId": "f9ffe6af-44bd-481d-abc5-1a47c214e5cb"
      },
      "source": [
        "df[df['Borough'] == 'Not assigned']"
      ],
      "execution_count": 13,
      "outputs": [
        {
          "output_type": "error",
          "ename": "NameError",
          "evalue": "ignored",
          "traceback": [
            "\u001b[0;31m---------------------------------------------------------------------------\u001b[0m",
            "\u001b[0;31mNameError\u001b[0m                                 Traceback (most recent call last)",
            "\u001b[0;32m<ipython-input-13-6c3788753f77>\u001b[0m in \u001b[0;36m<module>\u001b[0;34m()\u001b[0m\n\u001b[0;32m----> 1\u001b[0;31m \u001b[0mdf\u001b[0m\u001b[0;34m[\u001b[0m\u001b[0mdf\u001b[0m\u001b[0;34m[\u001b[0m\u001b[0;34m'Borough'\u001b[0m\u001b[0;34m]\u001b[0m \u001b[0;34m==\u001b[0m \u001b[0;34m'Not assigned'\u001b[0m\u001b[0;34m]\u001b[0m\u001b[0;34m\u001b[0m\u001b[0;34m\u001b[0m\u001b[0m\n\u001b[0m",
            "\u001b[0;31mNameError\u001b[0m: name 'df' is not defined"
          ]
        }
      ]
    }
  ]
}